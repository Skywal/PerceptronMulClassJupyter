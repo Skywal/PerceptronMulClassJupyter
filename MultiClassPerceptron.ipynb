{
 "cells": [
  {
   "cell_type": "markdown",
   "metadata": {
    "colab_type": "text",
    "id": "31J9uCuX2c9e"
   },
   "source": [
    "Імпортуємо необхідні пакети"
   ]
  },
  {
   "cell_type": "code",
   "execution_count": null,
   "metadata": {
    "colab": {},
    "colab_type": "code",
    "id": "X6S0gYz-2c9i"
   },
   "outputs": [],
   "source": [
    "import os\n",
    "import pandas as pd\n",
    "import numpy as np\n",
    "\n",
    "from matplotlib import pyplot as plt\n",
    "from matplotlib.colors import ListedColormap\n",
    "plt.style.use('ggplot')  # красиві графіки\n",
    "\n",
    "from keras.models import Sequential\n",
    "from keras.layers import Dense\n",
    "from keras.utils import np_utils\n",
    "from keras import optimizers\n",
    "from keras import initializers\n",
    "from keras import activations\n",
    "from keras import callbacks\n",
    "\n",
    "from sklearn.model_selection import train_test_split\n",
    "\n",
    "#import sys # якщо в Conda не встановлено keras\n",
    "#!conda install --yes --prefix {sys.prefix} keras"
   ]
  },
  {
   "cell_type": "markdown",
   "metadata": {},
   "source": [
    "# Корисні функції"
   ]
  },
  {
   "cell_type": "code",
   "execution_count": null,
   "metadata": {},
   "outputs": [],
   "source": [
    "# Розділяємо дані по класах, що зазначені у третьому стовпці (для візуалізації)\n",
    "def separate_by_unique_class(data_arr, unique_class, data_dims):\n",
    "    return data_arr[data_arr[data_dims] == unique_class]\n",
    "\n",
    "def add_data_to_plot(x, y):\n",
    "    plt.plot(x, y, 'o')\n",
    "    \n",
    "# візуалізація всіх даних з файлу по класах\n",
    "def add_dots_to_plot(data_f, data_dimentions:int, data_uniq_cls:list):\n",
    "    \n",
    "    # тільки якщо ми маємо справу із двовимірними даними\n",
    "    if data_dimentions == 2:\n",
    "        \n",
    "        # проходимо по всіх унікальних класах \n",
    "        for d_cl in data_uniq_cls:\n",
    "            data = separate_by_unique_class(data_f, d_cl, data_dimentions)\n",
    "            \n",
    "            add_data_to_plot(data[0], data[1]) \n",
    "    else:\n",
    "        pass\n",
    "    \n",
    "# перетворення імовірностей передбачення моделі у номери класів (які модель передбачила)\n",
    "def transform_predictions(predictions)->list:\n",
    "    result = []\n",
    "    prd = predictions.tolist()\n",
    "    for row in prd:\n",
    "        result.append(row.index(max(row)))\n",
    "    return result\n",
    "\n",
    "# отримуємо ваги напряму із моделі\n",
    "def _get_weights_list(model)->list:\n",
    "    weights = []\n",
    "    for layer in model.layers:\n",
    "        weights=layer.get_weights()\n",
    "    return weights\n",
    "\n",
    "# вирізати колонку під номером \"column_num\" із масиву \"in_list\"\n",
    "def _slice_column(in_list:list, column_num:int)->list:\n",
    "    lst = []\n",
    "    for i in in_list:\n",
    "        lst.append(i[column_num])\n",
    "    return lst\n",
    "\n",
    "# перетворємо ваги із формату двох векторів - вектор вагів моделі, вектор вагів bias нейронів у матрицю\n",
    "def convert_weights_list(weights_raw:list)->list:\n",
    "    weights_result = []\n",
    "\n",
    "    weights_result.append(weights_raw[1].tolist()) # ваги нейронів зміщення\n",
    "    # ваги всіх інших нейронів\n",
    "    for w in weights_raw[0]:\n",
    "        weights_result.append(w.tolist())\n",
    "    return weights_result\n",
    "\n",
    "# формуємо фінальний масив вагів де рядки відповідають класам а стовпці нейронам (перший - bias)\n",
    "def form_weights_list(weights_in:list)->list:\n",
    "    weights_res = []\n",
    "\n",
    "    for i in range(len(weights_in)):\n",
    "        weights_res.append(_slice_column(weights_in, i))\n",
    "    return weights_res\n",
    "\n",
    "# вирахування ліній для відбраження на графіках\n",
    "# лише для двовимірних даних\n",
    "def calc_one_trand_line(x_data:list, weights:list)->list:\n",
    "    w0 = weights[0]\n",
    "    w1 = weights[1]\n",
    "    w2 = weights[2]\n",
    "\n",
    "    x2 = []\n",
    "    for x1 in x_data:\n",
    "        val = (-1)*(w1/w2)*x1 - (w0/w2)\n",
    "        x2.append(val)\n",
    "    return x2\n",
    "\n",
    "# обрахування ліній розділення даних для всіх класів\n",
    "def calc_trand_lines_list(x_data:list, weights:list)->list:\n",
    "    x2_arr = []\n",
    "\n",
    "    for w in weights:\n",
    "        x2_arr.append(calc_one_trand_line(x_data, w))\n",
    "    return x2_arr\n",
    "\n",
    "# кравива візуалізація розділення даних натренованою моделлю\n",
    "# https://towardsdatascience.com/applied-deep-learning-part-1-artificial-neural-networks-d7834f67a4f6#106c\n",
    "def plot_multiclass_decision_boundary(model, X, y):\n",
    "    x_min, x_max = X[:, 0].min() - 0.1, X[:, 0].max() + 0.1\n",
    "    y_min, y_max = X[:, 1].min() - 0.1, X[:, 1].max() + 0.1\n",
    "    xx, yy = np.meshgrid(np.linspace(x_min, x_max, 101), np.linspace(y_min, y_max, 101))\n",
    "    cmap = ListedColormap(['#FF0000', '#00FF00', '#0000FF'])\n",
    "\n",
    "    Z = model.predict_classes(np.c_[xx.ravel(), yy.ravel()], verbose=0)\n",
    "    Z = Z.reshape(xx.shape)\n",
    "    fig = plt.figure(figsize=(8, 8))\n",
    "    plt.contourf(xx, yy, Z, cmap=plt.cm.Spectral, alpha=0.8)\n",
    "    plt.scatter(X[:, 0], X[:, 1], c=y, s=40, cmap=plt.cm.RdYlBu)\n",
    "    plt.xlim(xx.min(), xx.max())\n",
    "    plt.ylim(yy.min(), yy.max())"
   ]
  },
  {
   "cell_type": "markdown",
   "metadata": {},
   "source": [
    "------------------"
   ]
  },
  {
   "cell_type": "markdown",
   "metadata": {
    "colab_type": "text",
    "id": "dB8dmd2H2c9p"
   },
   "source": [
    "Місце розташування jupyter notebook"
   ]
  },
  {
   "cell_type": "code",
   "execution_count": null,
   "metadata": {
    "colab": {
     "base_uri": "https://localhost:8080/",
     "height": 35
    },
    "colab_type": "code",
    "id": "r15QnLOs2c9r",
    "outputId": "c442179d-39bb-4c62-fc9e-addf458c73f0"
   },
   "outputs": [],
   "source": [
    "pwd"
   ]
  },
  {
   "cell_type": "code",
   "execution_count": null,
   "metadata": {
    "colab": {
     "base_uri": "https://localhost:8080/",
     "height": 206
    },
    "colab_type": "code",
    "id": "Kg788E1b2c9v",
    "outputId": "451251b2-97b0-4c90-ee50-c11ff81e55e6"
   },
   "outputs": [],
   "source": [
    "path = \"sample1.csv\"\n",
    "data_file = pd.read_csv(path, header=None)\n",
    "data_file.head()"
   ]
  },
  {
   "cell_type": "markdown",
   "metadata": {
    "colab_type": "text",
    "id": "UsCv2gut2c90"
   },
   "source": [
    "Запам'ятовуємо назву стовпця, що відповідає класові даних"
   ]
  },
  {
   "cell_type": "code",
   "execution_count": null,
   "metadata": {
    "colab": {
     "base_uri": "https://localhost:8080/",
     "height": 35
    },
    "colab_type": "code",
    "id": "Oo-dSR5-2c92",
    "outputId": "57261c49-9714-41d8-ceb8-5ad1b415ed55"
   },
   "outputs": [],
   "source": [
    "data_dimention = len(data_file.columns) - 1  # розмірність вхідних даних, відповідає індексу стовпця клас\n",
    "data_dimention"
   ]
  },
  {
   "cell_type": "markdown",
   "metadata": {
    "colab_type": "text",
    "id": "T38RSlru2c96"
   },
   "source": [
    "Для візуалізації виділяємо унікальні класи даних, для розділення точок на графіку за кольором"
   ]
  },
  {
   "cell_type": "code",
   "execution_count": null,
   "metadata": {
    "colab": {
     "base_uri": "https://localhost:8080/",
     "height": 35
    },
    "colab_type": "code",
    "id": "TvJIILAR2c97",
    "outputId": "eeb7d6ac-d2f6-44fc-a88d-a4873485588b"
   },
   "outputs": [],
   "source": [
    "data_unique_classes = data_file[data_dimention].unique()\n",
    "data_unique_classes"
   ]
  },
  {
   "cell_type": "markdown",
   "metadata": {
    "colab_type": "text",
    "id": "CjlRUJHb2c-J"
   },
   "source": [
    "Демонстрація графіку з точками"
   ]
  },
  {
   "cell_type": "code",
   "execution_count": null,
   "metadata": {
    "colab": {
     "base_uri": "https://localhost:8080/",
     "height": 863
    },
    "colab_type": "code",
    "id": "U3XWtagN2c-K",
    "outputId": "ed7a57f1-a41d-4d74-b8e6-07c1bc19fb4b"
   },
   "outputs": [],
   "source": [
    "plt.figure(figsize=(15,15)) # налаштовуємо розміри відображення даних \n",
    "add_dots_to_plot(data_file, data_dimention, data_unique_classes)\n",
    "plt.show()"
   ]
  },
  {
   "cell_type": "markdown",
   "metadata": {
    "colab_type": "text",
    "id": "k-OGa8afxU6q"
   },
   "source": [
    "# Підготовка даних для передачі в нейромережу"
   ]
  },
  {
   "cell_type": "code",
   "execution_count": null,
   "metadata": {
    "colab": {
     "base_uri": "https://localhost:8080/",
     "height": 91
    },
    "colab_type": "code",
    "id": "dwMr_13TjGNm",
    "outputId": "7829d940-ff38-48f9-9486-460fb0a2baa0"
   },
   "outputs": [],
   "source": [
    "data_file = data_file.iloc[np.random.permutation(len(data_file))] # перемішування всього масиву значень з csv файлу по рядках\n",
    "# можна зробити і за допомогою np.random.shuffle(dataset)\n",
    "\n",
    "# Отримуємо всю таблицю даних з масиву pandas\n",
    "dataset = data_file.values\n",
    "\n",
    "# Вирізаємо лише стовпці з векторами\n",
    "data_array = dataset[:, 0:data_dimention]\n",
    "# print(data_array)\n",
    "\n",
    "# вирізаємо стовбець з класами\n",
    "data_classes = dataset[:, -1]\n",
    "\n",
    "data_train, data_test, data_classes_train, data_classes_test = train_test_split(\n",
    "    data_array,\n",
    "    data_classes,\n",
    "    test_size=.1\n",
    ")"
   ]
  },
  {
   "cell_type": "markdown",
   "metadata": {
    "colab_type": "text",
    "id": "ats2MLYmxm_U"
   },
   "source": [
    "\n",
    "\n",
    "---\n",
    "\n"
   ]
  },
  {
   "cell_type": "markdown",
   "metadata": {
    "colab_type": "text",
    "id": "xs5Vpt6i2c-P"
   },
   "source": [
    "# Нейронна мережа"
   ]
  },
  {
   "cell_type": "markdown",
   "metadata": {
    "colab_type": "text",
    "id": "LBBZxKh22c-V"
   },
   "source": [
    "Параметри налаштування ініціалізації нейронної мережі"
   ]
  },
  {
   "cell_type": "code",
   "execution_count": null,
   "metadata": {
    "colab": {},
    "colab_type": "code",
    "id": "YrTBuUZN2c-W"
   },
   "outputs": [],
   "source": [
    "input_dimention = data_dimention \n",
    "output_dimention = len(data_unique_classes) # по скільком класам буде вихід нейромережі\n",
    "\n",
    "# Найкраще для першого набору даних\n",
    "epoch_max = 150\n",
    "\n",
    "batch_size = 128\n",
    "shuffle_train = True\n",
    "validation_split = .1\n",
    "activation = activations.sigmoid\n",
    "\n",
    "learning_rate = 0.1\n",
    "\n",
    "kernel_initializer = initializers.TruncatedNormal()#RandomNormal()\n",
    "\n",
    "patience = 20"
   ]
  },
  {
   "cell_type": "markdown",
   "metadata": {
    "colab_type": "text",
    "id": "sUBB75GxvsJh"
   },
   "source": [
    "Оптимізатор для компіляції моделі"
   ]
  },
  {
   "cell_type": "code",
   "execution_count": null,
   "metadata": {
    "colab": {},
    "colab_type": "code",
    "id": "aIc_-z5CpPQK"
   },
   "outputs": [],
   "source": [
    "# https://keras.io/optimizers/\n",
    "\n",
    "adam = optimizers.Adam(lr=learning_rate)\n",
    "\n",
    "# стохастичний градієнтний спуск\n",
    "sgd = optimizers.SGD(lr=learning_rate, momentum=0.9)\n",
    "\n",
    "rmsprop = optimizers.RMSprop(lr=learning_rate)\n",
    "\n",
    "###################################################################################################\n",
    "compile_optimizator = rmsprop"
   ]
  },
  {
   "cell_type": "markdown",
   "metadata": {
    "colab_type": "text",
    "id": "pcIgdn0KwZt4"
   },
   "source": [
    "Створення моделі"
   ]
  },
  {
   "cell_type": "code",
   "execution_count": null,
   "metadata": {
    "colab": {
     "base_uri": "https://localhost:8080/",
     "height": 239
    },
    "colab_type": "code",
    "id": "NGBNzaVicycf",
    "outputId": "6547e95e-9391-4a16-9d80-3cc1307119e5",
    "scrolled": true
   },
   "outputs": [],
   "source": [
    "\n",
    "model = Sequential()\n",
    "\n",
    "model.add(Dense(\n",
    "    output_dim=output_dimention,\n",
    "    input_dim=input_dimention,\n",
    "    activation= activation,\n",
    "    kernel_initializer = kernel_initializer\n",
    "))\n",
    "\n",
    "model.compile(\n",
    "    loss='sparse_categorical_crossentropy',\n",
    "    optimizer=compile_optimizator,\n",
    "    metrics=[\n",
    "        'accuracy'\n",
    "    ]\n",
    ")\n",
    "\n",
    "#model.summary()  # демонстрація структури моделі"
   ]
  },
  {
   "cell_type": "markdown",
   "metadata": {
    "colab_type": "text",
    "id": "rlXUTGQQvjBZ"
   },
   "source": [
    "Колбеки для більшого контролю за процесом навчання"
   ]
  },
  {
   "cell_type": "code",
   "execution_count": null,
   "metadata": {
    "colab": {},
    "colab_type": "code",
    "id": "ROpWjUdLpnGN"
   },
   "outputs": [],
   "source": [
    "# https://datascience.stackexchange.com/questions/37186/early-stopping-on-validation-loss-or-on-accuracy\n",
    "\n",
    "# якщо протягом певної кількості епох метрика не змінюватиметься,\n",
    "# тобто модель почне перенавчання (overfitting), процес тренування зупиниться\n",
    "early_stop = callbacks.EarlyStopping(\n",
    "    monitor = 'val_loss',\n",
    "    patience = patience\n",
    ")\n",
    "\n",
    "# Фінальний список колбеків для передачі у функцію тренування\n",
    "callback_list = [\n",
    "    callbacks.TerminateOnNaN(),\n",
    "    early_stop\n",
    "]"
   ]
  },
  {
   "cell_type": "markdown",
   "metadata": {},
   "source": [
    "# Навчання нейронної мережі"
   ]
  },
  {
   "cell_type": "code",
   "execution_count": null,
   "metadata": {
    "colab": {
     "base_uri": "https://localhost:8080/",
     "height": 183
    },
    "colab_type": "code",
    "id": "sEQCF3dJj21w",
    "outputId": "ac2e0a2e-1eef-423e-e823-f7dbe2b566d8"
   },
   "outputs": [],
   "source": [
    "history = model.fit(\n",
    "    x = data_train,\n",
    "    y = data_classes_train,\n",
    "    epochs = epoch_max,\n",
    "    batch_size = batch_size,\n",
    "    shuffle = shuffle_train,\n",
    "    validation_data = (data_test, data_classes_test),\n",
    "    verbose = 1,\n",
    "    callbacks = callback_list\n",
    ")    "
   ]
  },
  {
   "cell_type": "markdown",
   "metadata": {},
   "source": [
    "-----------------------------"
   ]
  },
  {
   "cell_type": "markdown",
   "metadata": {},
   "source": [
    "# Перевірка точності моделі на тестовому наборі даних"
   ]
  },
  {
   "cell_type": "code",
   "execution_count": null,
   "metadata": {},
   "outputs": [],
   "source": [
    "results = model.evaluate(data_test, data_classes_test)\n",
    "\n",
    "print(model.metrics_names)\n",
    "print(results)"
   ]
  },
  {
   "cell_type": "markdown",
   "metadata": {},
   "source": [
    "---"
   ]
  },
  {
   "cell_type": "markdown",
   "metadata": {
    "colab_type": "text",
    "id": "v5iB2mtD5Nib"
   },
   "source": [
    "# Візуалізація процесу навчання моделі"
   ]
  },
  {
   "cell_type": "markdown",
   "metadata": {
    "colab_type": "text",
    "id": "O-nN1X8X5W_Q"
   },
   "source": [
    "Виведемо список доступних метрик для відстеження"
   ]
  },
  {
   "cell_type": "code",
   "execution_count": null,
   "metadata": {
    "colab": {
     "base_uri": "https://localhost:8080/",
     "height": 91
    },
    "colab_type": "code",
    "id": "6TOcAQDKzaqA",
    "outputId": "30cee0c0-ab46-403a-d166-9be64a3a8707"
   },
   "outputs": [],
   "source": [
    "# продемонструємо доступні метрики для візуалізації якості навчання\n",
    "# список метрик змінюватиметься в залежності від вибраних метрик на етапі компіляції моделі\n",
    "for history_metric in history.history:\n",
    "    print(history_metric)"
   ]
  },
  {
   "cell_type": "markdown",
   "metadata": {
    "colab_type": "text",
    "id": "gff4Xh_J53MS"
   },
   "source": [
    "Візуалізація"
   ]
  },
  {
   "cell_type": "code",
   "execution_count": null,
   "metadata": {
    "colab": {
     "base_uri": "https://localhost:8080/",
     "height": 976
    },
    "colab_type": "code",
    "id": "Rah4Inms1j00",
    "outputId": "3fb3beba-3cbe-4c17-82a8-9a6f5b3045a3"
   },
   "outputs": [],
   "source": [
    "# Формування списків метрик для візуалізації якості навчання\n",
    "loss = history.history['loss']  # наскільки точно модель 'впізнає' дані із тренувального набору\n",
    "val_loss = history.history['val_loss']  # точність розпізнання даних із тестового набору\n",
    "\n",
    "accuracy = history.history['acc']  # кількість невірно розпізнаних даних на тренувальному наборі\n",
    "val_accuracy = history.history['val_acc']  # кількість невірно розпізнаних даних на тестовому наборі\n",
    "\n",
    "epochs_passed = range(1, len(loss) + 1)  # кількість епох навчання моделі\n",
    "\n",
    "plt.figure(figsize=(10,10))\n",
    "\n",
    "plt.plot(epochs_passed, loss, label='Training loss')\n",
    "plt.plot(epochs_passed, val_loss, label='Validation loss')\n",
    "plt.title('Training and validation loss')\n",
    "plt.xlabel('Epochs')\n",
    "plt.ylabel('Loss')\n",
    "plt.legend()\n",
    "\n",
    "plt.show()"
   ]
  },
  {
   "cell_type": "code",
   "execution_count": null,
   "metadata": {},
   "outputs": [],
   "source": [
    "plt.figure(figsize=(10,10))\n",
    "\n",
    "plt.plot(epochs_passed, accuracy, label='Training accuracy')\n",
    "plt.plot(epochs_passed, val_accuracy, label='Validation accuracy')\n",
    "plt.title('Training and validation accuracy')\n",
    "plt.xlabel('Epochs')\n",
    "plt.ylabel('Accuracy')\n",
    "plt.legend()\n",
    "\n",
    "plt.show()"
   ]
  },
  {
   "cell_type": "markdown",
   "metadata": {
    "colab_type": "text",
    "id": "U-1k9MTA59mj"
   },
   "source": [
    "\n",
    "\n",
    "---\n",
    "\n"
   ]
  },
  {
   "cell_type": "markdown",
   "metadata": {
    "colab_type": "text",
    "id": "mpVm7KjS6EcQ"
   },
   "source": [
    "# Ваги моделі"
   ]
  },
  {
   "cell_type": "markdown",
   "metadata": {
    "colab_type": "text",
    "id": "M24jzNe4O3Hf"
   },
   "source": [
    "Отримуємо ваги з натренованої моделі"
   ]
  },
  {
   "cell_type": "code",
   "execution_count": null,
   "metadata": {
    "colab": {},
    "colab_type": "code",
    "id": "EhqFK82iOqx9"
   },
   "outputs": [],
   "source": [
    "raw_weights = _get_weights_list(model)\n",
    "weights = convert_weights_list(raw_weights)\n",
    "\n",
    "for i in weights:\n",
    "    print(i)\n",
    "print(\"---------------------------------\")\n",
    "\n",
    "# конвертація вагів у зручний для роботи формат\n",
    "weights = form_weights_list(weights)\n",
    "\n",
    "for i in weights:\n",
    "    print(i)\n"
   ]
  },
  {
   "cell_type": "markdown",
   "metadata": {
    "colab_type": "text",
    "id": "1tl-Y59W2c-w"
   },
   "source": [
    "# Візуалізація результату навчання"
   ]
  },
  {
   "cell_type": "code",
   "execution_count": null,
   "metadata": {
    "colab": {},
    "colab_type": "code",
    "id": "bPEQan4j2c-x"
   },
   "outputs": [],
   "source": [
    "x1 = [-20,-15, -10, -5, 0, 5, 10, 15, 20]\n",
    "x2_list = list(calc_trand_lines_list(x1, weights))\n",
    "\n",
    "# for x_line in x2_list:\n",
    "#     for i in range(len(x1)):\n",
    "#         print(f\"x1 = {x1[i]}   x2 = {x_line[i]}\")\n",
    "#     print(\"<----------->\")"
   ]
  },
  {
   "cell_type": "markdown",
   "metadata": {
    "colab_type": "text",
    "id": "4-01-pJ32c-z"
   },
   "source": [
    "Візуалізуємо розділення класів даних"
   ]
  },
  {
   "cell_type": "code",
   "execution_count": null,
   "metadata": {
    "colab": {},
    "colab_type": "code",
    "id": "CaTm3uD02c-z"
   },
   "outputs": [],
   "source": [
    "plt.figure(figsize=(15,15)) # налаштовуємо розміри відображення даних \n",
    "add_dots_to_plot(data_file, data_dimention, data_unique_classes)\n",
    "\n",
    "axes = plt.gca()\n",
    "axes.set_xlim([-10,20])\n",
    "axes.set_ylim([-25,25])\n",
    "\n",
    "for x2_line in x2_list:\n",
    "    plt.plot(x1, x2_line)\n",
    "    \n",
    "plt.show()"
   ]
  },
  {
   "cell_type": "markdown",
   "metadata": {},
   "source": [
    "Розподілення рішень нейромережі щодо даних"
   ]
  },
  {
   "cell_type": "code",
   "execution_count": null,
   "metadata": {},
   "outputs": [],
   "source": [
    "plt.figure(figsize=(15,15))\n",
    "\n",
    "plot_multiclass_decision_boundary(model, data_array, data_classes)"
   ]
  },
  {
   "cell_type": "markdown",
   "metadata": {},
   "source": [
    "Передбачення класів на основі даних натренованою нейромережею"
   ]
  },
  {
   "cell_type": "code",
   "execution_count": null,
   "metadata": {},
   "outputs": [],
   "source": [
    "predictions = model.predict(data_test)\n",
    "# print(predictions)"
   ]
  },
  {
   "cell_type": "code",
   "execution_count": null,
   "metadata": {},
   "outputs": [],
   "source": [
    "# перетворення передбаченого вектору імовірностей у клас даних\n",
    "pred_transformed = transform_predictions(predictions)\n",
    "\n",
    "for i in range(len(data_test)):\n",
    "    print(\"----\")\n",
    "    print(\"data {0}  real class {1}  predicted class {2}\".format(data_test[i], data_classes_test[i], pred_transformed[i]))"
   ]
  },
  {
   "cell_type": "code",
   "execution_count": null,
   "metadata": {
    "colab": {},
    "colab_type": "code",
    "id": "9wDgF5182c-3"
   },
   "outputs": [],
   "source": [
    "## https://www.machinecurve.com/index.php/2019/07/24/why-you-cant-truly-create-rosenblatts-perceptron-with-keras/\n",
    "## https://www.kaggle.com/arihant0497/try-shallow-before-going-deep\n",
    "## https://machinelearningmastery.com/multi-class-classification-tutorial-keras-deep-learning-library/\n",
    "\n",
    "## https://towardsdatascience.com/train-test-split-and-cross-validation-in-python-80b61beca4b6"
   ]
  },
  {
   "cell_type": "markdown",
   "metadata": {},
   "source": [
    "# Найкраще для першого набору даних\n",
    "epoch_max = 200\n",
    "\n",
    "batch_size = 128\n",
    "\n",
    "shuffle_train = True\n",
    "\n",
    "validation_split = .1\n",
    "\n",
    "activation = activations.sigmoid\n",
    "\n",
    "learning_rate = 0.01\n",
    "\n",
    "kernel_initializer = initializers.TruncatedNormal()\n",
    "\n",
    "patience = 10\n",
    "\n",
    "Ітерація 2##\n",
    "\n",
    "epoch_max = 500\n",
    "\n",
    "batch_size = 128\n",
    "\n",
    "shuffle_train = True\n",
    "\n",
    "validation_split = .1\n",
    "\n",
    "activation = activations.sigmoid\n",
    "\n",
    "learning_rate = 0.1\n",
    "\n",
    "kernel_initializer = initializers.TruncatedNormal()\n",
    "\n",
    "patience = 20\n"
   ]
  }
 ],
 "metadata": {
  "colab": {
   "collapsed_sections": [],
   "name": "MultiClassPerceptron.ipynb",
   "provenance": []
  },
  "kernelspec": {
   "display_name": "Python 3",
   "language": "python",
   "name": "python3"
  },
  "language_info": {
   "codemirror_mode": {
    "name": "ipython",
    "version": 3
   },
   "file_extension": ".py",
   "mimetype": "text/x-python",
   "name": "python",
   "nbconvert_exporter": "python",
   "pygments_lexer": "ipython3",
   "version": "3.7.3"
  }
 },
 "nbformat": 4,
 "nbformat_minor": 4
}
